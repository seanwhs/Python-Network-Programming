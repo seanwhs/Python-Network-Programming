{
 "cells": [
  {
   "cell_type": "markdown",
   "metadata": {},
   "source": [
    "# Testing Server-Client Connection in Python\n",
    "\n",
    "In this section, we will test a basic server-client connection using Python's `socket` module. The server listens for incoming client connections on a specific port, and the client sends a message to the server. The server then processes the data and sends a response back to the client.\n",
    "\n",
    "## Steps to Test the Connection:\n",
    "\n",
    "1. **Prepare the Server Code**:\n",
    "   - The server listens on a specific port (`12345` in this case) for incoming client connections.\n",
    "   - It accepts the connection, processes data sent from the client, and responds back.\n",
    "\n",
    "2. **Prepare the Client Code**:\n",
    "   - The client connects to the server using the server's IP address (`localhost`) and port (`12345`).\n",
    "   - The client sends a message (\"Hello, Server!\") to the server and waits for a response.\n",
    "\n",
    "3. **Run the Server**:\n",
    "   - Open a terminal and run the server code (saved as `server.py`).\n",
    "   - The server will print `Server is listening on port 12345...` and wait for a client to connect.\n",
    "\n",
    "4. **Run the Client**:\n",
    "   - Open a new terminal window and run the client code (saved as `client.py`).\n",
    "   - The client will send a message to the server and receive a response.\n",
    "\n",
    "5. **Expected Output**:\n",
    "   - **Server Side**: The server should print:\n",
    "     ```\n",
    "     Server is listening on port 12345...\n",
    "     Connection established with ('127.0.0.1', <random_port>)\n",
    "     Received data: Hello, Server!\n",
    "     ```\n",
    "   - **Client Side**: The client should print:\n",
    "     ```\n",
    "     Received from server: Hello from the server!\n",
    "     ```\n",
    "\n",
    "## Troubleshooting:\n",
    "- **No Connection**: If the client cannot connect to the server, make sure that the server is running first before starting the client.\n",
    "- **Firewall Issues**: Ensure that there are no firewall restrictions preventing the server and client from communicating on the specified port.\n",
    "- **Port Conflicts**: If port `12345` is in use by another application, change it to an available port in both the server and client code.\n",
    "\n",
    "By following these steps, you should be able to test the basic client-server connection and see how data can be exchanged between them using Python's `socket` module.\n"
   ]
  }
 ],
 "metadata": {
  "language_info": {
   "name": "python"
  }
 },
 "nbformat": 4,
 "nbformat_minor": 2
}
